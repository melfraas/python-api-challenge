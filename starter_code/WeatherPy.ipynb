{
 "cells": [
  {
   "cell_type": "markdown",
   "metadata": {},
   "source": [
    "# WeatherPy\n",
    "----\n",
    "\n",
    "#### Note\n",
    "* Instructions have been included for each segment. You do not have to follow them exactly, but they are included to help you think through the steps."
   ]
  },
  {
   "cell_type": "code",
   "execution_count": 1,
   "metadata": {},
   "outputs": [
    {
     "name": "stdout",
     "output_type": "stream",
     "text": [
      "Requirement already satisfied: citipy in /Users/melissafraas/opt/anaconda3/lib/python3.8/site-packages (0.0.5)\r\n",
      "Requirement already satisfied: kdtree>=0.12 in /Users/melissafraas/opt/anaconda3/lib/python3.8/site-packages (from citipy) (0.16)\r\n"
     ]
    }
   ],
   "source": [
    "!pip install citipy"
   ]
  },
  {
   "cell_type": "code",
   "execution_count": 2,
   "metadata": {
    "scrolled": true
   },
   "outputs": [],
   "source": [
    "# Dependencies and Setup\n",
    "import matplotlib.pyplot as plt\n",
    "import pandas as pd\n",
    "import numpy as np\n",
    "import requests\n",
    "import time\n",
    "from scipy.stats import linregress\n",
    "\n",
    "# Import API key\n",
    "from api_keys import weather_api_key\n",
    "\n",
    "# Incorporated citipy to determine city based on latitude and longitude\n",
    "from citipy import citipy\n",
    "\n",
    "# Output File (CSV)\n",
    "output_data_file = \"output_data/cities.csv\"\n",
    "\n",
    "# Range of latitudes and longitudes\n",
    "lat_range = (-90, 90)\n",
    "lng_range = (-180, 180)"
   ]
  },
  {
   "cell_type": "markdown",
   "metadata": {},
   "source": [
    "## Generate Cities List"
   ]
  },
  {
   "cell_type": "code",
   "execution_count": 3,
   "metadata": {},
   "outputs": [
    {
     "data": {
      "text/plain": [
       "632"
      ]
     },
     "execution_count": 3,
     "metadata": {},
     "output_type": "execute_result"
    }
   ],
   "source": [
    "# List for holding lat_lngs and cities\n",
    "lat_lngs = []\n",
    "cities = []\n",
    "\n",
    "# Create a set of random lat and lng combinations\n",
    "lats = np.random.uniform(lat_range[0], lat_range[1], size=1500)\n",
    "lngs = np.random.uniform(lng_range[0], lng_range[1], size=1500)\n",
    "lat_lngs = zip(lats, lngs)\n",
    "\n",
    "# Identify nearest city for each lat, lng combination\n",
    "for lat_lng in lat_lngs:\n",
    "    city = citipy.nearest_city(lat_lng[0], lat_lng[1]).city_name\n",
    "    \n",
    "    # If the city is unique, then add it to a our cities list\n",
    "    if city not in cities:\n",
    "        cities.append(city)\n",
    "\n",
    "# Print the city count to confirm sufficient count\n",
    "len(cities)\n",
    "\n"
   ]
  },
  {
   "cell_type": "markdown",
   "metadata": {},
   "source": [
    "### Perform API Calls\n",
    "* Perform a weather check on each city using a series of successive API calls.\n",
    "* Include a print log of each city as it'sbeing processed (with the city number and city name).\n"
   ]
  },
  {
   "cell_type": "code",
   "execution_count": 4,
   "metadata": {
    "scrolled": true
   },
   "outputs": [],
   "source": [
    "units= \"metric\"\n",
    "url = \"http://api.openweathermap.org/data/2.5/weather?\"\n",
    "query_url = url + \"appid=\" + weather_api_key + \"&q=\" + city"
   ]
  },
  {
   "cell_type": "code",
   "execution_count": 5,
   "metadata": {},
   "outputs": [
    {
     "data": {
      "text/plain": [
       "{'coord': {'lon': -159.319, 'lat': 22.0752},\n",
       " 'weather': [{'id': 500,\n",
       "   'main': 'Rain',\n",
       "   'description': 'light rain',\n",
       "   'icon': '10d'}],\n",
       " 'base': 'stations',\n",
       " 'main': {'temp': 297.48,\n",
       "  'feels_like': 297.87,\n",
       "  'temp_min': 295.93,\n",
       "  'temp_max': 299.15,\n",
       "  'pressure': 1019,\n",
       "  'humidity': 73},\n",
       " 'visibility': 10000,\n",
       " 'wind': {'speed': 8.23, 'deg': 40},\n",
       " 'rain': {'1h': 0.51},\n",
       " 'clouds': {'all': 75},\n",
       " 'dt': 1620960069,\n",
       " 'sys': {'type': 1,\n",
       "  'id': 7873,\n",
       "  'country': 'US',\n",
       "  'sunrise': 1620921516,\n",
       "  'sunset': 1620968927},\n",
       " 'timezone': -36000,\n",
       " 'id': 5848280,\n",
       " 'name': 'Kapaa',\n",
       " 'cod': 200}"
      ]
     },
     "execution_count": 5,
     "metadata": {},
     "output_type": "execute_result"
    }
   ],
   "source": [
    "#build request and store in a variable.     \n",
    "response=requests.get(query_url).json()\n",
    "response\n"
   ]
  },
  {
   "cell_type": "code",
   "execution_count": 6,
   "metadata": {},
   "outputs": [],
   "source": [
    "# lat=response['coord']['lat']\n",
    "# lon=response['coord']['lon']\n"
   ]
  },
  {
   "cell_type": "code",
   "execution_count": 7,
   "metadata": {
    "collapsed": true
   },
   "outputs": [
    {
     "name": "stdout",
     "output_type": "stream",
     "text": [
      "printing city number 1, ancud\n",
      "printing city number 2, ushuaia\n",
      "printing city number 3, victoria\n",
      "printing city number 4, albany\n",
      "printing city number 5, thompson\n",
      "printing city number 6, maningrida\n",
      "printing city number 7, pochutla\n",
      "printing city number 8, saint anthony\n",
      "printing city number 9, atuona\n",
      "printing city number 10, hilo\n",
      "city 11, phan rang not found, skipping.\n",
      "printing city number 12, barrow\n",
      "printing city number 13, capim grosso\n",
      "printing city number 14, yarada\n",
      "city 15, taolanaro not found, skipping.\n",
      "printing city number 16, pevek\n",
      "printing city number 17, el espino\n",
      "printing city number 18, hermanus\n",
      "printing city number 19, hazorasp\n",
      "printing city number 20, punta arenas\n",
      "printing city number 21, quatre cocos\n",
      "printing city number 22, jamestown\n",
      "printing city number 23, acajutla\n",
      "printing city number 24, cockburn town\n",
      "printing city number 25, faanui\n",
      "printing city number 26, khatanga\n",
      "printing city number 27, chumikan\n",
      "printing city number 28, rawson\n",
      "printing city number 29, vyazemskiy\n",
      "printing city number 30, tiksi\n",
      "printing city number 31, saint-philippe\n",
      "printing city number 32, busselton\n",
      "city 33, saleaula not found, skipping.\n",
      "printing city number 34, kapaa\n",
      "printing city number 35, cherskiy\n",
      "printing city number 36, yellowknife\n",
      "printing city number 37, majene\n",
      "printing city number 38, kinshasa\n",
      "printing city number 39, niscemi\n",
      "printing city number 40, norman wells\n",
      "printing city number 41, reconquista\n",
      "printing city number 42, isangel\n",
      "printing city number 43, east london\n",
      "printing city number 44, provideniya\n",
      "city 45, amderma not found, skipping.\n",
      "printing city number 46, ribeira grande\n",
      "printing city number 47, heihe\n",
      "printing city number 48, bambous virieux\n",
      "printing city number 49, port blair\n",
      "printing city number 50, san patricio\n",
      "printing city number 51, sao filipe\n",
      "printing city number 52, qaanaaq\n",
      "city 53, tumannyy not found, skipping.\n",
      "printing city number 54, port alfred\n",
      "printing city number 55, rikitea\n",
      "printing city number 56, kavieng\n",
      "printing city number 57, ostrovnoy\n",
      "printing city number 58, lasa\n",
      "printing city number 59, saint george\n",
      "printing city number 60, cape town\n",
      "printing city number 61, avarua\n",
      "printing city number 62, staryy krym\n",
      "printing city number 63, auki\n",
      "printing city number 64, beringovskiy\n",
      "printing city number 65, hualmay\n",
      "city 66, lolua not found, skipping.\n",
      "printing city number 67, nasice\n",
      "printing city number 68, urumqi\n",
      "printing city number 69, komsomolskiy\n",
      "printing city number 70, leningradskiy\n",
      "printing city number 71, beya\n",
      "printing city number 72, novo cruzeiro\n",
      "printing city number 73, port lincoln\n",
      "printing city number 74, kochki\n",
      "printing city number 75, padang\n",
      "printing city number 76, bilibino\n",
      "printing city number 77, vaini\n",
      "printing city number 78, arraial do cabo\n",
      "printing city number 79, alofi\n",
      "printing city number 80, upernavik\n",
      "printing city number 81, luena\n",
      "printing city number 82, ihosy\n",
      "printing city number 83, rognan\n",
      "printing city number 84, dikson\n",
      "printing city number 85, hithadhoo\n",
      "printing city number 86, burnie\n",
      "city 87, yirol not found, skipping.\n",
      "printing city number 88, kiunga\n",
      "city 89, bargal not found, skipping.\n",
      "printing city number 90, tuktoyaktuk\n",
      "printing city number 91, port macquarie\n",
      "printing city number 92, riyadh\n",
      "printing city number 93, castro\n",
      "printing city number 94, lorengau\n",
      "printing city number 95, wajima\n",
      "printing city number 96, acapulco\n",
      "printing city number 97, hobart\n",
      "printing city number 98, goderich\n",
      "printing city number 99, thai binh\n",
      "printing city number 100, pahrump\n",
      "printing city number 101, rokytne\n",
      "printing city number 102, nanortalik\n",
      "printing city number 103, oban\n",
      "printing city number 104, geraldton\n",
      "printing city number 105, saskylakh\n",
      "city 106, grand river south east not found, skipping.\n",
      "printing city number 107, grindavik\n",
      "printing city number 108, mehamn\n",
      "printing city number 109, kaohsiung\n",
      "printing city number 110, new norfolk\n",
      "printing city number 111, mataura\n",
      "city 112, nizhneyansk not found, skipping.\n",
      "printing city number 113, severo-kurilsk\n",
      "printing city number 114, bima\n",
      "printing city number 115, tuatapere\n",
      "printing city number 116, ilebo\n",
      "printing city number 117, burgeo\n",
      "printing city number 118, urucara\n",
      "printing city number 119, touros\n",
      "printing city number 120, weihai\n",
      "printing city number 121, caravelas\n",
      "printing city number 122, fort nelson\n",
      "printing city number 123, kungurtug\n",
      "printing city number 124, tasiilaq\n",
      "printing city number 125, samarai\n",
      "city 126, illoqqortoormiut not found, skipping.\n",
      "printing city number 127, corby\n",
      "printing city number 128, mitu\n",
      "printing city number 129, fortuna\n",
      "printing city number 130, roebourne\n",
      "printing city number 131, bridlington\n",
      "printing city number 132, tourlaville\n",
      "printing city number 133, bluff\n",
      "printing city number 134, esperance\n",
      "printing city number 135, zheleznogorsk-ilimskiy\n",
      "printing city number 136, sompeta\n",
      "printing city number 137, lompoc\n",
      "printing city number 138, inhambane\n",
      "printing city number 139, namatanai\n",
      "printing city number 140, mandera\n",
      "printing city number 141, virginia beach\n",
      "printing city number 142, yar-sale\n",
      "printing city number 143, puerto ayora\n",
      "printing city number 144, xingyi\n",
      "printing city number 145, inta\n",
      "printing city number 146, qandala\n",
      "printing city number 147, caucaia\n",
      "printing city number 148, nsanje\n",
      "printing city number 149, lodja\n",
      "printing city number 150, carballo\n",
      "printing city number 151, bredasdorp\n",
      "printing city number 152, victor harbor\n",
      "city 153, bababe not found, skipping.\n",
      "printing city number 154, hovd\n",
      "city 155, barentsburg not found, skipping.\n",
      "printing city number 156, missouri city\n",
      "printing city number 157, sitka\n",
      "printing city number 158, la mana\n",
      "printing city number 159, maceio\n",
      "printing city number 160, morrope\n",
      "printing city number 161, alta floresta\n",
      "printing city number 162, yulara\n",
      "printing city number 163, baijiantan\n",
      "printing city number 164, linxia\n",
      "printing city number 165, banda aceh\n",
      "printing city number 166, wageningen\n",
      "printing city number 167, ugoofaaru\n",
      "printing city number 168, imbituba\n",
      "printing city number 169, sobolevo\n",
      "city 170, mys shmidta not found, skipping.\n",
      "printing city number 171, xai-xai\n",
      "printing city number 172, ovsyanka\n",
      "city 173, umzimvubu not found, skipping.\n",
      "city 174, burica not found, skipping.\n",
      "printing city number 175, bathsheba\n",
      "printing city number 176, aitape\n",
      "printing city number 177, lebu\n",
      "printing city number 178, fort frances\n",
      "printing city number 179, nikolskoye\n",
      "printing city number 180, hamilton\n",
      "printing city number 181, hasaki\n",
      "printing city number 182, nyagan\n",
      "city 183, sorvag not found, skipping.\n",
      "printing city number 184, nome\n",
      "printing city number 185, fort saint james\n",
      "printing city number 186, lavrentiya\n",
      "printing city number 187, greensburg\n",
      "printing city number 188, san quintin\n",
      "printing city number 189, penzance\n",
      "printing city number 190, ivybridge\n",
      "printing city number 191, wenling\n",
      "printing city number 192, zetea\n",
      "printing city number 193, banjar\n",
      "printing city number 194, georgetown\n",
      "printing city number 195, dauriya\n",
      "printing city number 196, mar del plata\n",
      "printing city number 197, namtsy\n",
      "printing city number 198, henties bay\n",
      "printing city number 199, itumba\n",
      "printing city number 200, pacific grove\n",
      "printing city number 201, atkarsk\n",
      "printing city number 202, marau\n",
      "city 203, vaitupu not found, skipping.\n",
      "printing city number 204, hami\n",
      "city 205, zachagansk not found, skipping.\n",
      "printing city number 206, kruisfontein\n",
      "printing city number 207, royan\n",
      "city 208, dzhusaly not found, skipping.\n",
      "printing city number 209, kloulklubed\n",
      "printing city number 210, namibe\n",
      "printing city number 211, portland\n",
      "printing city number 212, juneau\n",
      "printing city number 213, maraa\n",
      "printing city number 214, port elizabeth\n",
      "printing city number 215, chabahar\n",
      "printing city number 216, andijon\n",
      "printing city number 217, puerto escondido\n",
      "printing city number 218, mayumba\n",
      "printing city number 219, honiara\n",
      "printing city number 220, port-cartier\n",
      "printing city number 221, pisco\n",
      "printing city number 222, burayevo\n",
      "printing city number 223, arman\n",
      "printing city number 224, ilulissat\n",
      "printing city number 225, sovetsk\n",
      "printing city number 226, tabou\n",
      "city 227, samusu not found, skipping.\n",
      "printing city number 228, orchard homes\n",
      "printing city number 229, ngunguru\n",
      "printing city number 230, klaksvik\n",
      "printing city number 231, fenoarivo\n",
      "city 232, dolbeau not found, skipping.\n"
     ]
    },
    {
     "name": "stdout",
     "output_type": "stream",
     "text": [
      "printing city number 233, bethel\n",
      "printing city number 234, villazon\n",
      "printing city number 235, jacmel\n",
      "printing city number 236, freetown\n",
      "printing city number 237, sakakah\n",
      "printing city number 238, lakes entrance\n",
      "printing city number 239, sigayevo\n",
      "printing city number 240, mabasa\n",
      "printing city number 241, kavaratti\n",
      "printing city number 242, sanandaj\n",
      "printing city number 243, cayenne\n",
      "printing city number 244, montepuez\n",
      "printing city number 245, kaitangata\n",
      "printing city number 246, barsovo\n",
      "printing city number 247, anjiang\n",
      "printing city number 248, lagos\n",
      "printing city number 249, ust-uda\n",
      "printing city number 250, balykshi\n",
      "printing city number 251, bengkulu\n",
      "printing city number 252, alice springs\n",
      "printing city number 253, sharjah\n",
      "printing city number 254, susurluk\n",
      "printing city number 255, lata\n",
      "printing city number 256, belaya gora\n",
      "printing city number 257, rwamagana\n",
      "printing city number 258, tashtagol\n",
      "printing city number 259, san jose\n",
      "city 260, tsihombe not found, skipping.\n",
      "printing city number 261, luderitz\n",
      "printing city number 262, parit buntar\n",
      "printing city number 263, palmer\n",
      "printing city number 264, noumea\n",
      "printing city number 265, jiaonan\n",
      "city 266, sentyabrskiy not found, skipping.\n",
      "printing city number 267, jiuquan\n",
      "printing city number 268, whitehorse\n",
      "printing city number 269, svetlyy\n",
      "printing city number 270, challans\n",
      "printing city number 271, coquimbo\n",
      "printing city number 272, carnarvon\n",
      "printing city number 273, zhangye\n",
      "printing city number 274, marzuq\n",
      "printing city number 275, lienz\n",
      "printing city number 276, yumen\n",
      "printing city number 277, rovaniemi\n",
      "printing city number 278, hay river\n",
      "printing city number 279, gonbad-e qabus\n",
      "printing city number 280, butaritari\n",
      "printing city number 281, san nicolas\n",
      "printing city number 282, mananjary\n",
      "city 283, tir pol not found, skipping.\n",
      "printing city number 284, grand gaube\n",
      "printing city number 285, najran\n",
      "printing city number 286, kodiak\n",
      "printing city number 287, grand-lahou\n",
      "printing city number 288, abu kamal\n",
      "printing city number 289, palu\n",
      "printing city number 290, mrakovo\n",
      "printing city number 291, susaki\n",
      "printing city number 292, chuy\n",
      "city 293, aflu not found, skipping.\n",
      "printing city number 294, biltine\n",
      "printing city number 295, matagami\n",
      "printing city number 296, looc\n",
      "printing city number 297, maniago\n",
      "printing city number 298, shelburne\n",
      "printing city number 299, erzin\n",
      "printing city number 300, nokha\n",
      "printing city number 301, sioux lookout\n",
      "city 302, fort saint john not found, skipping.\n",
      "city 303, rungata not found, skipping.\n",
      "printing city number 304, mandalgovi\n",
      "printing city number 305, dwarka\n",
      "printing city number 306, lerwick\n",
      "printing city number 307, los llanos de aridane\n",
      "printing city number 308, olinda\n",
      "printing city number 309, longyearbyen\n",
      "printing city number 310, vostok\n",
      "printing city number 311, lichuan\n",
      "printing city number 312, waingapu\n",
      "printing city number 313, bilma\n",
      "printing city number 314, san cristobal\n",
      "printing city number 315, juba\n",
      "printing city number 316, doka\n",
      "printing city number 317, port hardy\n",
      "printing city number 318, aksu\n",
      "printing city number 319, hambantota\n",
      "printing city number 320, imeni zhelyabova\n",
      "printing city number 321, cardoso\n",
      "printing city number 322, narsaq\n",
      "printing city number 323, mirador\n",
      "printing city number 324, chokurdakh\n",
      "printing city number 325, bondo\n",
      "printing city number 326, kirakira\n",
      "printing city number 327, zyryanskoye\n",
      "printing city number 328, sabancuy\n",
      "printing city number 329, sisimiut\n",
      "printing city number 330, havre-saint-pierre\n",
      "printing city number 331, souillac\n",
      "printing city number 332, kars\n",
      "printing city number 333, teya\n",
      "printing city number 334, koupela\n",
      "printing city number 335, kiama\n",
      "printing city number 336, general roca\n",
      "printing city number 337, vallenar\n",
      "printing city number 338, tecpan\n",
      "printing city number 339, laguna\n",
      "printing city number 340, nuuk\n",
      "printing city number 341, katsuura\n",
      "printing city number 342, moranbah\n",
      "printing city number 343, serov\n",
      "printing city number 344, ust-omchug\n",
      "printing city number 345, batagay-alyta\n",
      "printing city number 346, codrington\n",
      "printing city number 347, dunedin\n",
      "printing city number 348, kourou\n",
      "printing city number 349, evensk\n",
      "city 350, babanusah not found, skipping.\n",
      "printing city number 351, honningsvag\n",
      "printing city number 352, kingaroy\n",
      "printing city number 353, cooma\n",
      "printing city number 354, chapais\n",
      "printing city number 355, vilhena\n",
      "printing city number 356, obo\n",
      "printing city number 357, ambikapur\n",
      "printing city number 358, talaya\n",
      "printing city number 359, okmulgee\n",
      "printing city number 360, torbay\n",
      "printing city number 361, santiago del estero\n",
      "printing city number 362, kushima\n",
      "printing city number 363, chlorakas\n",
      "printing city number 364, aligarh\n",
      "printing city number 365, timiryazevskiy\n",
      "printing city number 366, richards bay\n",
      "printing city number 367, pasni\n",
      "printing city number 368, shagonar\n",
      "printing city number 369, vila franca do campo\n",
      "printing city number 370, sorland\n",
      "printing city number 371, elko\n",
      "printing city number 372, kualakapuas\n",
      "printing city number 373, maldonado\n",
      "printing city number 374, uthal\n",
      "printing city number 375, mahibadhoo\n",
      "printing city number 376, sarangani\n",
      "printing city number 377, shimoda\n",
      "printing city number 378, ust-maya\n",
      "printing city number 379, deputatskiy\n",
      "printing city number 380, beni\n",
      "printing city number 381, gamba\n",
      "printing city number 382, andenes\n",
      "city 383, safwah not found, skipping.\n",
      "printing city number 384, karapyshi\n",
      "printing city number 385, manakara\n",
      "printing city number 386, buala\n",
      "printing city number 387, guerrero negro\n",
      "city 388, karamay not found, skipping.\n",
      "printing city number 389, olovyannaya\n",
      "printing city number 390, te anau\n",
      "printing city number 391, coihaique\n",
      "city 392, meyungs not found, skipping.\n",
      "printing city number 393, bitkine\n",
      "printing city number 394, gigmoto\n",
      "printing city number 395, vardo\n",
      "printing city number 396, yashkul\n",
      "printing city number 397, alihe\n",
      "printing city number 398, takoradi\n",
      "printing city number 399, mount gambier\n",
      "printing city number 400, kattivakkam\n",
      "city 401, churumuco not found, skipping.\n",
      "printing city number 402, mookane\n",
      "printing city number 403, dakoro\n",
      "printing city number 404, verkhniy rohachyk\n",
      "printing city number 405, mozarlandia\n",
      "printing city number 406, tigil\n",
      "city 407, kamenskoye not found, skipping.\n",
      "printing city number 408, ucluelet\n",
      "printing city number 409, vila velha\n",
      "printing city number 410, berezovyy\n",
      "printing city number 411, constitucion\n",
      "printing city number 412, rapid valley\n",
      "printing city number 413, yerbogachen\n",
      "printing city number 414, awjilah\n",
      "printing city number 415, wagar\n",
      "printing city number 416, biak\n",
      "printing city number 417, matara\n",
      "printing city number 418, pimentel\n",
      "printing city number 419, hofn\n",
      "printing city number 420, gangapur\n",
      "printing city number 421, ponta do sol\n",
      "printing city number 422, mandiana\n",
      "printing city number 423, arak\n",
      "printing city number 424, russell\n",
      "city 425, belushya guba not found, skipping.\n",
      "printing city number 426, fez\n",
      "printing city number 427, beloha\n",
      "city 428, kracheh not found, skipping.\n",
      "printing city number 429, nyurba\n",
      "printing city number 430, makakilo city\n",
      "printing city number 431, key west\n",
      "city 432, slevik not found, skipping.\n",
      "printing city number 433, upata\n",
      "printing city number 434, zhadovka\n",
      "printing city number 435, ponta delgada\n",
      "printing city number 436, sur\n",
      "printing city number 437, pangnirtung\n",
      "printing city number 438, rocha\n",
      "printing city number 439, keelung\n",
      "city 440, santa eulalia del rio not found, skipping.\n",
      "printing city number 441, kampene\n",
      "printing city number 442, kenai\n",
      "printing city number 443, ixtapa\n",
      "printing city number 444, kahului\n",
      "printing city number 445, guarapari\n",
      "printing city number 446, pilar\n",
      "printing city number 447, santiago\n",
      "printing city number 448, mehran\n",
      "city 449, barawe not found, skipping.\n",
      "printing city number 450, totma\n",
      "printing city number 451, la asuncion\n",
      "printing city number 452, isla mujeres\n",
      "printing city number 453, kyren\n",
      "printing city number 454, umm lajj\n",
      "printing city number 455, cochrane\n",
      "printing city number 456, okha\n",
      "printing city number 457, concordia\n",
      "printing city number 458, qasigiannguit\n",
      "printing city number 459, sampit\n",
      "printing city number 460, kununurra\n",
      "printing city number 461, taybad\n",
      "printing city number 462, saint-joseph\n",
      "printing city number 463, zhigansk\n"
     ]
    },
    {
     "name": "stdout",
     "output_type": "stream",
     "text": [
      "printing city number 464, kumo\n",
      "printing city number 465, lagoa\n",
      "printing city number 466, anadyr\n",
      "printing city number 467, kodinsk\n",
      "printing city number 468, boulder city\n",
      "printing city number 469, airai\n",
      "printing city number 470, vao\n",
      "printing city number 471, bundaberg\n",
      "city 472, khonuu not found, skipping.\n",
      "printing city number 473, nawabshah\n",
      "printing city number 474, saint-pierre\n",
      "printing city number 475, sumbe\n",
      "printing city number 476, nemuro\n",
      "printing city number 477, moussoro\n",
      "printing city number 478, jardim\n",
      "printing city number 479, conde\n",
      "printing city number 480, kalabo\n",
      "printing city number 481, bonthe\n",
      "printing city number 482, nova olimpia\n",
      "printing city number 483, nabire\n",
      "printing city number 484, pirgos\n",
      "printing city number 485, mahanoro\n",
      "printing city number 486, anito\n",
      "printing city number 487, salinas\n",
      "printing city number 488, awbari\n",
      "printing city number 489, dingle\n",
      "printing city number 490, vieste\n",
      "printing city number 491, kismayo\n",
      "printing city number 492, riberalta\n",
      "printing city number 493, ballarat\n",
      "printing city number 494, otradnoye\n",
      "city 495, kuche not found, skipping.\n",
      "printing city number 496, celestun\n",
      "printing city number 497, elizabeth city\n",
      "city 498, gollere not found, skipping.\n",
      "printing city number 499, asyut\n",
      "printing city number 500, san rafael\n",
      "printing city number 501, mahebourg\n",
      "printing city number 502, taltal\n",
      "printing city number 503, kochubey\n",
      "city 504, falealupo not found, skipping.\n",
      "printing city number 505, oranjemund\n",
      "printing city number 506, broken hill\n",
      "printing city number 507, tianpeng\n",
      "printing city number 508, thinadhoo\n",
      "printing city number 509, gudari\n",
      "printing city number 510, mamlyutka\n",
      "printing city number 511, hauterive\n",
      "printing city number 512, haines junction\n",
      "printing city number 513, baruun-urt\n",
      "printing city number 514, ilam\n",
      "printing city number 515, ormara\n",
      "printing city number 516, graciano sanchez\n",
      "printing city number 517, san matias\n",
      "printing city number 518, payson\n",
      "printing city number 519, santa isabel\n",
      "city 520, inderborskiy not found, skipping.\n",
      "printing city number 521, adre\n",
      "printing city number 522, cabo san lucas\n",
      "printing city number 523, lewiston\n",
      "printing city number 524, san pedro\n",
      "printing city number 525, torredonjimeno\n",
      "printing city number 526, abu samrah\n",
      "printing city number 527, flinders\n",
      "city 528, attawapiskat not found, skipping.\n",
      "printing city number 529, songkhla\n",
      "printing city number 530, skovorodino\n",
      "printing city number 531, clyde river\n",
      "printing city number 532, salalah\n",
      "printing city number 533, iroquois falls\n",
      "printing city number 534, doha\n",
      "printing city number 535, porto novo\n",
      "printing city number 536, libenge\n",
      "printing city number 537, puerto baquerizo moreno\n",
      "printing city number 538, tsimlyansk\n",
      "printing city number 539, moba\n",
      "printing city number 540, laurel\n",
      "printing city number 541, porosozero\n",
      "city 542, marcona not found, skipping.\n",
      "printing city number 543, flin flon\n",
      "printing city number 544, alyangula\n",
      "printing city number 545, pokrovskoye\n",
      "printing city number 546, skibbereen\n",
      "printing city number 547, chimore\n",
      "printing city number 548, puerto el triunfo\n",
      "printing city number 549, petropavlovsk-kamchatskiy\n",
      "printing city number 550, lowestoft\n",
      "printing city number 551, chicama\n",
      "printing city number 552, niles\n",
      "printing city number 553, lahat\n",
      "city 554, mouzakion not found, skipping.\n",
      "printing city number 555, cidreira\n",
      "printing city number 556, sao joao da barra\n",
      "printing city number 557, fuyang\n",
      "printing city number 558, egvekinot\n",
      "printing city number 559, vaitape\n",
      "printing city number 560, atar\n",
      "printing city number 561, saldanha\n",
      "printing city number 562, pierre\n",
      "printing city number 563, nacala\n",
      "printing city number 564, tornio\n",
      "printing city number 565, monrovia\n",
      "printing city number 566, rabo de peixe\n",
      "printing city number 567, rudbar\n",
      "printing city number 568, warrington\n",
      "printing city number 569, korla\n",
      "printing city number 570, chegdomyn\n",
      "printing city number 571, sfantu gheorghe\n",
      "printing city number 572, carutapera\n",
      "printing city number 573, atagay\n",
      "printing city number 574, kaeo\n",
      "printing city number 575, vangaindrano\n",
      "printing city number 576, jackson\n",
      "printing city number 577, san lawrenz\n",
      "printing city number 578, igarka\n",
      "printing city number 579, dicabisagan\n",
      "printing city number 580, ndele\n",
      "printing city number 581, iqaluit\n",
      "printing city number 582, gat\n",
      "printing city number 583, sawakin\n",
      "printing city number 584, tandil\n",
      "printing city number 585, pitkyaranta\n",
      "printing city number 586, finschhafen\n",
      "printing city number 587, mirnyy\n",
      "printing city number 588, el cope\n",
      "printing city number 589, aketi\n",
      "printing city number 590, kontagora\n",
      "printing city number 591, mezen\n",
      "printing city number 592, tazmalt\n",
      "printing city number 593, asau\n",
      "printing city number 594, poum\n",
      "printing city number 595, poronaysk\n",
      "printing city number 596, hanna\n",
      "printing city number 597, puerto colombia\n",
      "city 598, karaul not found, skipping.\n",
      "printing city number 599, oxapampa\n",
      "printing city number 600, karratha\n",
      "printing city number 601, northam\n",
      "printing city number 602, benghazi\n",
      "printing city number 603, concepcion\n",
      "printing city number 604, hobyo\n",
      "printing city number 605, niquero\n",
      "printing city number 606, lavumisa\n",
      "printing city number 607, madimba\n",
      "printing city number 608, high level\n",
      "printing city number 609, mount isa\n",
      "printing city number 610, tres arroyos\n",
      "printing city number 611, labuhan\n",
      "printing city number 612, urk\n",
      "printing city number 613, tortoli\n",
      "printing city number 614, guymon\n",
      "printing city number 615, cabral\n",
      "printing city number 616, mpika\n",
      "city 617, satitoa not found, skipping.\n",
      "city 618, toliary not found, skipping.\n",
      "printing city number 619, desaguadero\n",
      "printing city number 620, bandar\n",
      "printing city number 621, frolovo\n",
      "printing city number 622, udachnyy\n",
      "printing city number 623, suntar\n",
      "printing city number 624, miramar\n",
      "printing city number 625, talnakh\n",
      "printing city number 626, ostersund\n",
      "printing city number 627, vestmanna\n",
      "printing city number 628, bubaque\n",
      "printing city number 629, lumphat\n",
      "printing city number 630, bowen\n",
      "printing city number 631, buchanan\n",
      "printing city number 632, jasper\n"
     ]
    }
   ],
   "source": [
    "cities_clean=[]\n",
    "lat=[]\n",
    "lon=[]\n",
    "temp=[]\n",
    "humidity =[]\n",
    "wind_speed=[]\n",
    "date=[]\n",
    "clouds=[]\n",
    "\n",
    "for index, city in enumerate(cities):\n",
    "    try:\n",
    "        units= \"metric\"\n",
    "        url = \"http://api.openweathermap.org/data/2.5/weather?\"\n",
    "\n",
    "        query_url = url + \"appid=\" + weather_api_key + \"&q=\" + city\n",
    "        response=requests.get(query_url).json()\n",
    "        cities_clean.append(city)\n",
    "        lat.append(response['coord']['lat'])\n",
    "        lon.append(response['coord']['lon'])\n",
    "        temp.append(response['main']['temp_max'])\n",
    "        humidity.append(response['main']['humidity'])\n",
    "        wind_speed.append(response['wind']['speed'])\n",
    "        clouds.append(response['weather'][0]['description'])\n",
    "        #date.append(response['weather'][0]['description'])\n",
    "        \n",
    "        #Include a print log of each city as it'sbeing processed (with the city number and city name).\n",
    "        print(f'printing city number {index + 1}, {city}')\n",
    "    except KeyError:\n",
    "        #if city is not found, remove from dataframe.\n",
    "        cities_clean.pop(-1)\n",
    "        print(f\"city {index+1}, {city} not found, skipping.\")\n",
    "  \n",
    "\n",
    "        \n",
    "#cities_clean       \n"
   ]
  },
  {
   "cell_type": "code",
   "execution_count": 10,
   "metadata": {},
   "outputs": [
    {
     "name": "stdout",
     "output_type": "stream",
     "text": [
      "    city name      lat       lon    temp  humidity     cloudiness\n",
      "0       ancud -41.8697  -73.8203  283.15       100            fog\n",
      "1     ushuaia -54.8000  -68.3000  278.15        70      clear sky\n",
      "2    victoria  22.2855  114.1577  303.71        76     light rain\n",
      "3      albany  42.6001  -73.9662  285.37        61      clear sky\n",
      "4    thompson  55.7435  -97.8558  281.15        46     few clouds\n",
      "..        ...      ...       ...     ...       ...            ...\n",
      "577   bubaque  11.2833  -15.8333  298.65        80      clear sky\n",
      "578   lumphat  13.4878  106.9816  306.99        53  moderate rain\n",
      "579     bowen -20.0167  148.2333  300.15        44      clear sky\n",
      "580  buchanan   5.8808  -10.0467  299.34        84  broken clouds\n",
      "581    jasper  37.2001  -94.3502  288.15        55      clear sky\n",
      "\n",
      "[582 rows x 6 columns]\n"
     ]
    },
    {
     "data": {
      "text/plain": [
       "100"
      ]
     },
     "execution_count": 10,
     "metadata": {},
     "output_type": "execute_result"
    }
   ],
   "source": [
    "weather_data=pd.DataFrame({'city name': cities_clean, 'lat': lat,\n",
    "                           'lon': lon, 'temp': temp,\n",
    "                           'humidity': humidity,\n",
    "                           'cloudiness': clouds})\n",
    "\n",
    "print(weather_data)\n",
    "#check max humidity values\n",
    "weather_data['humidity'].max()\n",
    "#max humidity value is 100, so no need to remove any rows. "
   ]
  },
  {
   "cell_type": "markdown",
   "metadata": {},
   "source": [
    "### Convert Raw Data to DataFrame\n",
    "* Export the city data into a .csv.\n",
    "* Display the DataFrame"
   ]
  },
  {
   "cell_type": "code",
   "execution_count": null,
   "metadata": {},
   "outputs": [],
   "source": [
    "#export to csv\n",
    "weather_data.to_csv(\"weatherdata.csv\", encoding=\"utf-8\", index=False)"
   ]
  },
  {
   "cell_type": "code",
   "execution_count": null,
   "metadata": {},
   "outputs": [],
   "source": []
  },
  {
   "cell_type": "markdown",
   "metadata": {},
   "source": [
    "## Plotting the Data\n",
    "* Use proper labeling of the plots using plot titles (including date of analysis) and axes labels.\n",
    "* Save the plotted figures as .pngs."
   ]
  },
  {
   "cell_type": "markdown",
   "metadata": {},
   "source": [
    "## Latitude vs. Temperature Plot"
   ]
  },
  {
   "cell_type": "code",
   "execution_count": 15,
   "metadata": {
    "scrolled": true
   },
   "outputs": [
    {
     "data": {
      "text/plain": [
       "Text(0, 0.5, 'Temperature(c)')"
      ]
     },
     "execution_count": 15,
     "metadata": {},
     "output_type": "execute_result"
    },
    {
     "data": {
      "image/png": "[encoded data removed]",
      "text/plain": [
       "<Figure size 432x288 with 1 Axes>"
      ]
     },
     "metadata": {
      "needs_background": "light"
     },
     "output_type": "display_data"
    }
   ],
   "source": [
    "x=weather_data['lat']\n",
    "y=weather_data['temp']\n",
    "plt.scatter(x, y)\n",
    "plt.title('Latitude vs. Temperature (Celcius)')\n",
    "plt.xlabel('Latitude')\n",
    "plt.ylabel('Temperature(c)')"
   ]
  },
  {
   "cell_type": "markdown",
   "metadata": {},
   "source": [
    "## Latitude vs. Humidity Plot"
   ]
  },
  {
   "cell_type": "code",
   "execution_count": 17,
   "metadata": {},
   "outputs": [
    {
     "data": {
      "text/plain": [
       "Text(0, 0.5, 'Humidity(%)')"
      ]
     },
     "execution_count": 17,
     "metadata": {},
     "output_type": "execute_result"
    },
    {
     "data": {
      "image/png": "[encoded data removed]",
      "text/plain": [
       "<Figure size 432x288 with 1 Axes>"
      ]
     },
     "metadata": {
      "needs_background": "light"
     },
     "output_type": "display_data"
    }
   ],
   "source": [
    "\n",
    "hum=weather_data['humidity']\n",
    "plt.scatter(x, hum)\n",
    "plt.title('Latitude vs Humidity')\n",
    "plt.xlabel('Latitude')\n",
    "plt.ylabel('Humidity(%)')\n"
   ]
  },
  {
   "cell_type": "markdown",
   "metadata": {},
   "source": [
    "## Latitude vs. Cloudiness Plot"
   ]
  },
  {
   "cell_type": "code",
   "execution_count": 18,
   "metadata": {},
   "outputs": [
    {
     "data": {
      "text/plain": [
       "<matplotlib.collections.PathCollection at 0x7f8d78c42dc0>"
      ]
     },
     "execution_count": 18,
     "metadata": {},
     "output_type": "execute_result"
    },
    {
     "data": {
      "image/png": "[encoded data removed]",
      "text/plain": [
       "<Figure size 432x288 with 1 Axes>"
      ]
     },
     "metadata": {
      "needs_background": "light"
     },
     "output_type": "display_data"
    }
   ],
   "source": [
    "cloudiness=weather_data['cloudiness']\n",
    "plt.scatter(x,cloudiness)"
   ]
  },
  {
   "cell_type": "markdown",
   "metadata": {},
   "source": [
    "## Latitude vs. Wind Speed Plot"
   ]
  },
  {
   "cell_type": "code",
   "execution_count": null,
   "metadata": {},
   "outputs": [],
   "source": []
  },
  {
   "cell_type": "markdown",
   "metadata": {},
   "source": [
    "## Linear Regression"
   ]
  },
  {
   "cell_type": "code",
   "execution_count": null,
   "metadata": {},
   "outputs": [],
   "source": []
  },
  {
   "cell_type": "markdown",
   "metadata": {},
   "source": [
    "####  Northern Hemisphere - Max Temp vs. Latitude Linear Regression"
   ]
  },
  {
   "cell_type": "code",
   "execution_count": null,
   "metadata": {},
   "outputs": [],
   "source": []
  },
  {
   "cell_type": "markdown",
   "metadata": {},
   "source": [
    "####  Southern Hemisphere - Max Temp vs. Latitude Linear Regression"
   ]
  },
  {
   "cell_type": "code",
   "execution_count": null,
   "metadata": {},
   "outputs": [],
   "source": []
  },
  {
   "cell_type": "markdown",
   "metadata": {},
   "source": [
    "####  Northern Hemisphere - Humidity (%) vs. Latitude Linear Regression"
   ]
  },
  {
   "cell_type": "code",
   "execution_count": null,
   "metadata": {},
   "outputs": [],
   "source": []
  },
  {
   "cell_type": "markdown",
   "metadata": {},
   "source": [
    "####  Southern Hemisphere - Humidity (%) vs. Latitude Linear Regression"
   ]
  },
  {
   "cell_type": "code",
   "execution_count": null,
   "metadata": {},
   "outputs": [],
   "source": []
  },
  {
   "cell_type": "code",
   "execution_count": null,
   "metadata": {},
   "outputs": [],
   "source": []
  },
  {
   "cell_type": "markdown",
   "metadata": {},
   "source": [
    "####  Northern Hemisphere - Cloudiness (%) vs. Latitude Linear Regression"
   ]
  },
  {
   "cell_type": "code",
   "execution_count": null,
   "metadata": {},
   "outputs": [],
   "source": []
  },
  {
   "cell_type": "markdown",
   "metadata": {},
   "source": [
    "####  Southern Hemisphere - Cloudiness (%) vs. Latitude Linear Regression"
   ]
  },
  {
   "cell_type": "code",
   "execution_count": null,
   "metadata": {},
   "outputs": [],
   "source": []
  },
  {
   "cell_type": "markdown",
   "metadata": {},
   "source": [
    "####  Northern Hemisphere - Wind Speed (mph) vs. Latitude Linear Regression"
   ]
  },
  {
   "cell_type": "code",
   "execution_count": null,
   "metadata": {},
   "outputs": [],
   "source": []
  },
  {
   "cell_type": "markdown",
   "metadata": {},
   "source": [
    "####  Southern Hemisphere - Wind Speed (mph) vs. Latitude Linear Regression"
   ]
  },
  {
   "cell_type": "code",
   "execution_count": null,
   "metadata": {},
   "outputs": [],
   "source": []
  },
  {
   "cell_type": "code",
   "execution_count": null,
   "metadata": {},
   "outputs": [],
   "source": []
  }
 ],
 "metadata": {
  "anaconda-cloud": {},
  "kernel_info": {
   "name": "python3"
  },
  "kernelspec": {
   "display_name": "Python 3",
   "language": "python",
   "name": "python3"
  },
  "language_info": {
   "codemirror_mode": {
    "name": "ipython",
    "version": 3
   },
   "file_extension": ".py",
   "mimetype": "text/x-python",
   "name": "python",
   "nbconvert_exporter": "python",
   "pygments_lexer": "ipython3",
   "version": "3.8.5"
  },
  "latex_envs": {
   "LaTeX_envs_menu_present": true,
   "autoclose": false,
   "autocomplete": true,
   "bibliofile": "biblio.bib",
   "cite_by": "apalike",
   "current_citInitial": 1,
   "eqLabelWithNumbers": true,
   "eqNumInitial": 1,
   "hotkeys": {
    "equation": "Ctrl-E",
    "itemize": "Ctrl-I"
   },
   "labels_anchors": false,
   "latex_user_defs": false,
   "report_style_numbering": false,
   "user_envs_cfg": false
  },
  "nteract": {
   "version": "0.12.3"
  }
 },
 "nbformat": 4,
 "nbformat_minor": 2
}
