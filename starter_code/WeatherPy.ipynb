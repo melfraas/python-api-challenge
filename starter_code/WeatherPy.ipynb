{
 "cells": [
  {
   "cell_type": "markdown",
   "metadata": {},
   "source": [
    "# WeatherPy\n",
    "----\n",
    "\n",
    "#### Note\n",
    "* Instructions have been included for each segment. You do not have to follow them exactly, but they are included to help you think through the steps."
   ]
  },
  {
   "cell_type": "code",
   "execution_count": 1,
   "metadata": {},
   "outputs": [
    {
     "name": "stdout",
     "output_type": "stream",
     "text": [
      "Requirement already satisfied: citipy in /Users/melissafraas/opt/anaconda3/lib/python3.8/site-packages (0.0.5)\r\n",
      "Requirement already satisfied: kdtree>=0.12 in /Users/melissafraas/opt/anaconda3/lib/python3.8/site-packages (from citipy) (0.16)\r\n"
     ]
    }
   ],
   "source": [
    "!pip install citipy"
   ]
  },
  {
   "cell_type": "code",
   "execution_count": 2,
   "metadata": {
    "scrolled": true
   },
   "outputs": [],
   "source": [
    "# Dependencies and Setup\n",
    "import matplotlib.pyplot as plt\n",
    "import pandas as pd\n",
    "import numpy as np\n",
    "import requests\n",
    "import time\n",
    "from scipy.stats import linregress\n",
    "\n",
    "# Import API key\n",
    "from api_keys import weather_api_key\n",
    "\n",
    "# Incorporated citipy to determine city based on latitude and longitude\n",
    "from citipy import citipy\n",
    "\n",
    "# Output File (CSV)\n",
    "output_data_file = \"output_data/cities.csv\"\n",
    "\n",
    "# Range of latitudes and longitudes\n",
    "lat_range = (-90, 90)\n",
    "lng_range = (-180, 180)"
   ]
  },
  {
   "cell_type": "markdown",
   "metadata": {},
   "source": [
    "## Generate Cities List"
   ]
  },
  {
   "cell_type": "code",
   "execution_count": 3,
   "metadata": {},
   "outputs": [
    {
     "data": {
      "text/plain": [
       "616"
      ]
     },
     "execution_count": 3,
     "metadata": {},
     "output_type": "execute_result"
    }
   ],
   "source": [
    "# List for holding lat_lngs and cities\n",
    "lat_lngs = []\n",
    "cities = []\n",
    "\n",
    "# Create a set of random lat and lng combinations\n",
    "lats = np.random.uniform(lat_range[0], lat_range[1], size=1500)\n",
    "lngs = np.random.uniform(lng_range[0], lng_range[1], size=1500)\n",
    "lat_lngs = zip(lats, lngs)\n",
    "\n",
    "# Identify nearest city for each lat, lng combination\n",
    "for lat_lng in lat_lngs:\n",
    "    city = citipy.nearest_city(lat_lng[0], lat_lng[1]).city_name\n",
    "    \n",
    "    # If the city is unique, then add it to a our cities list\n",
    "    if city not in cities:\n",
    "        cities.append(city)\n",
    "\n",
    "# Print the city count to confirm sufficient count\n",
    "len(cities)\n",
    "\n"
   ]
  },
  {
   "cell_type": "markdown",
   "metadata": {},
   "source": [
    "### Perform API Calls\n",
    "* Perform a weather check on each city using a series of successive API calls.\n",
    "* Include a print log of each city as it'sbeing processed (with the city number and city name).\n"
   ]
  },
  {
   "cell_type": "code",
   "execution_count": 4,
   "metadata": {
    "scrolled": true
   },
   "outputs": [],
   "source": [
    "units= \"metric\"\n",
    "url = \"http://api.openweathermap.org/data/2.5/weather?\"\n",
    "query_url = url + \"appid=\" + weather_api_key + \"&q=\" + city"
   ]
  },
  {
   "cell_type": "code",
   "execution_count": 5,
   "metadata": {},
   "outputs": [
    {
     "data": {
      "text/plain": [
       "{'cod': '404', 'message': 'city not found'}"
      ]
     },
     "execution_count": 5,
     "metadata": {},
     "output_type": "execute_result"
    }
   ],
   "source": [
    "#build request and store in a variable.     \n",
    "response=requests.get(query_url).json()\n",
    "response\n"
   ]
  },
  {
   "cell_type": "code",
   "execution_count": 6,
   "metadata": {},
   "outputs": [],
   "source": [
    "# lat=response['coord']['lat']\n",
    "# lon=response['coord']['lon']\n"
   ]
  },
  {
   "cell_type": "code",
   "execution_count": 7,
   "metadata": {},
   "outputs": [
    {
     "name": "stdout",
     "output_type": "stream",
     "text": [
      "printing city number 1, budhlada\n",
      "printing city number 2, severo-kurilsk\n",
      "printing city number 3, mataura\n",
      "printing city number 4, upernavik\n",
      "city 5, mullaitivu not found, skipping.\n",
      "printing city number 6, kungurtug\n",
      "printing city number 7, kapaa\n",
      "printing city number 8, luwuk\n",
      "printing city number 9, hermanus\n",
      "printing city number 10, santa isabel\n",
      "printing city number 11, sorland\n",
      "printing city number 12, baker city\n",
      "city 13, satitoa not found, skipping.\n",
      "printing city number 14, tual\n",
      "printing city number 15, atar\n",
      "printing city number 16, port-gentil\n",
      "printing city number 17, hasaki\n",
      "printing city number 18, qaanaaq\n",
      "city 19, belushya guba not found, skipping.\n",
      "printing city number 20, ancud\n",
      "printing city number 21, punta arenas\n",
      "printing city number 22, abashiri\n",
      "printing city number 23, prachin buri\n",
      "printing city number 24, kaitangata\n",
      "printing city number 25, araouane\n",
      "printing city number 26, bethel\n",
      "printing city number 27, faanui\n",
      "printing city number 28, fortuna\n",
      "printing city number 29, ribeira grande\n",
      "printing city number 30, praia da vitoria\n",
      "city 31, illoqqortoormiut not found, skipping.\n",
      "printing city number 32, rikitea\n",
      "printing city number 33, bakal\n",
      "printing city number 34, tuatapere\n",
      "printing city number 35, nyurba\n",
      "printing city number 36, albany\n",
      "printing city number 37, vaini\n",
      "printing city number 38, miri\n",
      "printing city number 39, yellowknife\n",
      "printing city number 40, arraial do cabo\n",
      "printing city number 41, santarem\n",
      "printing city number 42, new norfolk\n",
      "printing city number 43, port alfred\n",
      "printing city number 44, vila franca do campo\n",
      "printing city number 45, cape town\n",
      "printing city number 46, bletchley\n",
      "printing city number 47, san cristobal\n",
      "printing city number 48, fairbanks\n",
      "printing city number 49, ushuaia\n",
      "printing city number 50, muli\n",
      "printing city number 51, iqaluit\n",
      "city 52, vaitupu not found, skipping.\n",
      "printing city number 53, avarua\n",
      "printing city number 54, xining\n",
      "printing city number 55, hutchinson\n",
      "printing city number 56, kruisfontein\n",
      "printing city number 57, thunder bay\n",
      "printing city number 58, vedea\n",
      "printing city number 59, ponta do sol\n",
      "printing city number 60, chapais\n",
      "printing city number 61, den helder\n",
      "printing city number 62, nikolayevka\n",
      "printing city number 63, mahebourg\n",
      "printing city number 64, mildura\n",
      "printing city number 65, westport\n",
      "printing city number 66, arkhipo-osipovka\n",
      "printing city number 67, east london\n",
      "printing city number 68, meulaboh\n",
      "printing city number 69, skerries\n",
      "printing city number 70, ucluelet\n",
      "printing city number 71, angoche\n",
      "printing city number 72, lerik\n",
      "printing city number 73, colares\n",
      "printing city number 74, kahului\n",
      "printing city number 75, lydenburg\n",
      "printing city number 76, cockburn town\n",
      "printing city number 77, tessalit\n",
      "printing city number 78, kuytun\n",
      "printing city number 79, hualmay\n",
      "printing city number 80, bredasdorp\n",
      "printing city number 81, lata\n",
      "printing city number 82, karratha\n",
      "printing city number 83, dikson\n",
      "printing city number 84, barrow\n",
      "city 85, cambyreta not found, skipping.\n",
      "printing city number 86, san patricio\n",
      "printing city number 87, puerto ayora\n",
      "printing city number 88, zacapu\n",
      "printing city number 89, ajaccio\n",
      "city 90, taolanaro not found, skipping.\n",
      "city 91, saryshagan not found, skipping.\n",
      "printing city number 92, bengkulu\n",
      "printing city number 93, verkhoyansk\n",
      "printing city number 94, ouallam\n",
      "printing city number 95, acarau\n",
      "printing city number 96, devonport\n",
      "printing city number 97, provideniya\n",
      "printing city number 98, kodiak\n",
      "printing city number 99, longyearbyen\n",
      "printing city number 100, haines junction\n",
      "printing city number 101, port elizabeth\n",
      "printing city number 102, san carlos de bariloche\n",
      "printing city number 103, thompson\n",
      "printing city number 104, rongcheng\n",
      "printing city number 105, souillac\n",
      "printing city number 106, upington\n",
      "printing city number 107, nagyszenas\n",
      "printing city number 108, maltahohe\n",
      "printing city number 109, caravelas\n",
      "printing city number 110, peniche\n",
      "printing city number 111, santa cruz de la palma\n",
      "printing city number 112, zhoucheng\n",
      "printing city number 113, khapa\n",
      "printing city number 114, newport\n",
      "printing city number 115, eureka\n",
      "printing city number 116, panaytayon\n",
      "printing city number 117, bulgan\n",
      "printing city number 118, hobart\n",
      "printing city number 119, busselton\n",
      "printing city number 120, egvekinot\n",
      "city 121, qafsah not found, skipping.\n",
      "printing city number 122, kieta\n",
      "printing city number 123, alofi\n",
      "printing city number 124, angoram\n",
      "printing city number 125, narsaq\n",
      "printing city number 126, hilo\n",
      "printing city number 127, katsuura\n",
      "printing city number 128, nikolskoye\n",
      "printing city number 129, tuktoyaktuk\n",
      "printing city number 130, kavaratti\n",
      "printing city number 131, bambous virieux\n",
      "printing city number 132, najran\n",
      "printing city number 133, asau\n",
      "printing city number 134, watertown\n",
      "printing city number 135, kuala terengganu\n",
      "printing city number 136, dalvik\n",
      "printing city number 137, coronado\n",
      "printing city number 138, ostrovnoy\n",
      "city 139, lolua not found, skipping.\n",
      "printing city number 140, saint-georges\n",
      "printing city number 141, kem\n",
      "printing city number 142, ayan\n",
      "printing city number 143, russell\n",
      "printing city number 144, vanimo\n",
      "printing city number 145, kavieng\n",
      "printing city number 146, rio frio\n",
      "printing city number 147, torbay\n",
      "printing city number 148, soyo\n",
      "printing city number 149, port hedland\n",
      "printing city number 150, dejen\n",
      "printing city number 151, kunya\n",
      "printing city number 152, beyneu\n",
      "printing city number 153, jalingo\n",
      "printing city number 154, presidente epitacio\n",
      "printing city number 155, mar del plata\n",
      "city 156, saleaula not found, skipping.\n",
      "city 157, rungata not found, skipping.\n",
      "printing city number 158, lasem\n",
      "printing city number 159, lebu\n",
      "printing city number 160, khatanga\n",
      "printing city number 161, comodoro rivadavia\n",
      "printing city number 162, cabo san lucas\n",
      "printing city number 163, evensk\n",
      "printing city number 164, lompoc\n",
      "printing city number 165, swan hill\n",
      "printing city number 166, avera\n",
      "printing city number 167, fukue\n",
      "printing city number 168, salalah\n",
      "printing city number 169, nykoping\n",
      "printing city number 170, teya\n",
      "printing city number 171, bobrovskiy\n",
      "printing city number 172, khilok\n",
      "printing city number 173, leon valley\n",
      "printing city number 174, nevers\n",
      "printing city number 175, kondagaon\n",
      "printing city number 176, nanning\n",
      "printing city number 177, bluff\n",
      "printing city number 178, coffs harbour\n",
      "printing city number 179, shakhtinsk\n",
      "printing city number 180, masuda\n",
      "printing city number 181, constitucion\n",
      "printing city number 182, isla mujeres\n",
      "printing city number 183, jamestown\n",
      "city 184, attawapiskat not found, skipping.\n",
      "printing city number 185, butaritari\n",
      "printing city number 186, imperial beach\n",
      "city 187, ulyanovo not found, skipping.\n",
      "printing city number 188, bathsheba\n",
      "printing city number 189, mama\n",
      "printing city number 190, vanavara\n",
      "printing city number 191, qaqortoq\n",
      "printing city number 192, raga\n",
      "printing city number 193, portland\n",
      "printing city number 194, roela\n",
      "printing city number 195, broken hill\n",
      "printing city number 196, shubarshi\n",
      "printing city number 197, namibe\n",
      "printing city number 198, havre-saint-pierre\n",
      "printing city number 199, uribia\n",
      "printing city number 200, hithadhoo\n",
      "printing city number 201, port pirie\n",
      "city 202, amderma not found, skipping.\n",
      "printing city number 203, georgetown\n",
      "printing city number 204, saint-pierre\n",
      "printing city number 205, anadyr\n",
      "city 206, el wasta not found, skipping.\n",
      "printing city number 207, tiksi\n",
      "printing city number 208, quatre cocos\n",
      "printing city number 209, paamiut\n",
      "printing city number 210, sokoni\n",
      "printing city number 211, limoges\n",
      "printing city number 212, manggar\n",
      "printing city number 213, middle island\n",
      "printing city number 214, norman wells\n",
      "printing city number 215, batagay-alyta\n",
      "printing city number 216, hit\n",
      "printing city number 217, grindavik\n",
      "printing city number 218, annau\n",
      "printing city number 219, omboue\n",
      "printing city number 220, vestmannaeyjar\n",
      "printing city number 221, rocha\n",
      "city 222, umzimvubu not found, skipping.\n",
      "printing city number 223, luderitz\n",
      "printing city number 224, greece\n",
      "city 225, huitzuco not found, skipping.\n",
      "printing city number 226, sao filipe\n",
      "printing city number 227, carnarvon\n",
      "printing city number 228, chicama\n",
      "printing city number 229, tilichiki\n",
      "printing city number 230, mayo\n",
      "printing city number 231, saint-philippe\n"
     ]
    },
    {
     "name": "stdout",
     "output_type": "stream",
     "text": [
      "printing city number 232, cidreira\n",
      "printing city number 233, jaisalmer\n",
      "printing city number 234, bandarbeyla\n",
      "printing city number 235, formosa\n",
      "printing city number 236, cascais\n",
      "printing city number 237, verkhnevilyuysk\n",
      "printing city number 238, airai\n",
      "city 239, tsihombe not found, skipping.\n",
      "printing city number 240, zabaykalsk\n",
      "printing city number 241, khorinsk\n",
      "printing city number 242, los llanos de aridane\n",
      "printing city number 243, ormara\n",
      "printing city number 244, nuuk\n",
      "printing city number 245, padang\n",
      "printing city number 246, texarkana\n",
      "printing city number 247, niono\n",
      "printing city number 248, shiyan\n",
      "city 249, kawana waters not found, skipping.\n",
      "printing city number 250, cherskiy\n",
      "printing city number 251, rawson\n",
      "printing city number 252, luoyang\n",
      "printing city number 253, port augusta\n",
      "printing city number 254, redmond\n",
      "printing city number 255, rio branco\n",
      "printing city number 256, mariental\n",
      "printing city number 257, taywarah\n",
      "printing city number 258, coquimbo\n",
      "printing city number 259, petrivka\n",
      "printing city number 260, port lincoln\n",
      "printing city number 261, broome\n",
      "printing city number 262, leningradskiy\n",
      "city 263, ciras not found, skipping.\n",
      "printing city number 264, saint george\n",
      "printing city number 265, havelock\n",
      "printing city number 266, leinefelde\n",
      "printing city number 267, katherine\n",
      "printing city number 268, behshahr\n",
      "printing city number 269, oktyabrskoye\n",
      "printing city number 270, craig\n",
      "printing city number 271, havoysund\n",
      "printing city number 272, forestville\n",
      "printing city number 273, villa carlos paz\n",
      "city 274, barentsburg not found, skipping.\n",
      "printing city number 275, sola\n",
      "printing city number 276, masvingo\n",
      "printing city number 277, saldanha\n",
      "printing city number 278, campoverde\n",
      "printing city number 279, camopi\n",
      "printing city number 280, laguna\n",
      "printing city number 281, pevek\n",
      "printing city number 282, yarada\n",
      "printing city number 283, waipawa\n",
      "printing city number 284, tingo maria\n",
      "printing city number 285, atuona\n",
      "printing city number 286, santo domingo\n",
      "printing city number 287, kabompo\n",
      "printing city number 288, tabou\n",
      "printing city number 289, micheweni\n",
      "printing city number 290, hofn\n",
      "printing city number 291, chuy\n",
      "printing city number 292, shunyi\n",
      "city 293, zachagansk not found, skipping.\n",
      "printing city number 294, fare\n",
      "printing city number 295, sitka\n",
      "printing city number 296, young\n",
      "printing city number 297, hamilton\n",
      "printing city number 298, kloulklubed\n",
      "printing city number 299, koungheul\n",
      "printing city number 300, kango\n",
      "printing city number 301, kota kinabalu\n",
      "printing city number 302, castro\n",
      "printing city number 303, arcachon\n",
      "printing city number 304, lagoa\n",
      "printing city number 305, porto novo\n",
      "printing city number 306, gao\n",
      "printing city number 307, wagar\n",
      "printing city number 308, geraldton\n",
      "printing city number 309, bubaque\n",
      "printing city number 310, mount gambier\n",
      "printing city number 311, methoni\n",
      "printing city number 312, pemangkat\n",
      "city 313, kuche not found, skipping.\n",
      "city 314, sirfa not found, skipping.\n",
      "printing city number 315, beringovskiy\n",
      "printing city number 316, naifaru\n",
      "printing city number 317, santa teresa\n",
      "city 318, mys shmidta not found, skipping.\n",
      "printing city number 319, dunedin\n",
      "printing city number 320, taoudenni\n",
      "printing city number 321, krasnyy chikoy\n",
      "printing city number 322, awjilah\n",
      "printing city number 323, adrar\n",
      "printing city number 324, sendafa\n",
      "printing city number 325, durban\n",
      "printing city number 326, liverpool\n",
      "printing city number 327, kelo\n",
      "printing city number 328, rusape\n",
      "city 329, tasbuget not found, skipping.\n",
      "printing city number 330, yar-sale\n",
      "printing city number 331, harper\n",
      "printing city number 332, eyemouth\n",
      "printing city number 333, oeiras do para\n",
      "city 334, tumannyy not found, skipping.\n",
      "printing city number 335, buala\n",
      "printing city number 336, sinnamary\n",
      "printing city number 337, esperance\n",
      "printing city number 338, talnakh\n",
      "printing city number 339, mpophomeni\n",
      "printing city number 340, pinerovka\n",
      "printing city number 341, victoria\n",
      "printing city number 342, gurupi\n",
      "printing city number 343, tambura\n",
      "city 344, haibowan not found, skipping.\n",
      "printing city number 345, vila velha\n",
      "printing city number 346, ardakan\n",
      "printing city number 347, touros\n",
      "printing city number 348, noumea\n",
      "printing city number 349, red bluff\n",
      "printing city number 350, dukat\n",
      "printing city number 351, chokurdakh\n",
      "printing city number 352, aripuana\n",
      "printing city number 353, surgut\n",
      "printing city number 354, ixtapa\n",
      "printing city number 355, lavrentiya\n",
      "printing city number 356, nova olinda do norte\n",
      "printing city number 357, morondava\n",
      "printing city number 358, zhezkazgan\n",
      "printing city number 359, vytegra\n",
      "printing city number 360, san jose\n",
      "printing city number 361, presidencia roque saenz pena\n",
      "printing city number 362, smidovich\n",
      "printing city number 363, comachuen\n",
      "printing city number 364, bose\n",
      "printing city number 365, khash\n",
      "printing city number 366, pisco\n",
      "printing city number 367, gulu\n",
      "printing city number 368, gryazovets\n",
      "printing city number 369, nome\n",
      "printing city number 370, la ronge\n",
      "printing city number 371, mareeba\n",
      "printing city number 372, gorontalo\n",
      "city 373, sentyabrskiy not found, skipping.\n",
      "printing city number 374, haukipudas\n",
      "printing city number 375, sukumo\n",
      "printing city number 376, kohat\n",
      "printing city number 377, nanortalik\n",
      "printing city number 378, san quintin\n",
      "printing city number 379, nador\n",
      "printing city number 380, aksu\n",
      "printing city number 381, gladstone\n",
      "printing city number 382, norfolk\n",
      "printing city number 383, chara\n",
      "printing city number 384, necochea\n",
      "printing city number 385, tarakan\n",
      "printing city number 386, ciempozuelos\n",
      "printing city number 387, mount isa\n",
      "printing city number 388, scottsbluff\n",
      "printing city number 389, kabinda\n",
      "printing city number 390, shingu\n",
      "printing city number 391, ende\n",
      "printing city number 392, college\n",
      "printing city number 393, flinders\n",
      "printing city number 394, abbeville\n",
      "printing city number 395, panzhihua\n",
      "printing city number 396, kalmunai\n",
      "printing city number 397, pineville\n",
      "printing city number 398, eirunepe\n",
      "printing city number 399, henties bay\n",
      "printing city number 400, grand-santi\n",
      "printing city number 401, rafaela\n",
      "printing city number 402, ust-maya\n",
      "printing city number 403, santiago del estero\n",
      "printing city number 404, goderich\n",
      "printing city number 405, umm lajj\n",
      "printing city number 406, gat\n",
      "printing city number 407, sungaipenuh\n",
      "printing city number 408, guerrero negro\n",
      "printing city number 409, aklavik\n",
      "printing city number 410, usakos\n",
      "printing city number 411, ambanja\n",
      "printing city number 412, komsomolskiy\n",
      "printing city number 413, konevo\n",
      "printing city number 414, tasiilaq\n",
      "printing city number 415, tagab\n",
      "printing city number 416, santa maria\n",
      "printing city number 417, chiredzi\n",
      "printing city number 418, santiago\n",
      "printing city number 419, isangel\n",
      "printing city number 420, thongwa\n",
      "printing city number 421, berdigestyakh\n",
      "printing city number 422, abu samrah\n",
      "printing city number 423, codrington\n",
      "printing city number 424, bentiu\n",
      "printing city number 425, alice springs\n",
      "printing city number 426, toccoa\n",
      "printing city number 427, guerande\n",
      "printing city number 428, berezovyy\n",
      "printing city number 429, jalu\n",
      "printing city number 430, yulara\n",
      "printing city number 431, klyuchi\n",
      "printing city number 432, puerto escondido\n",
      "printing city number 433, xinzhou\n",
      "printing city number 434, galesong\n",
      "printing city number 435, zachary\n",
      "printing city number 436, te karaka\n",
      "printing city number 437, itarema\n",
      "printing city number 438, kyzyl\n",
      "city 439, tawzar not found, skipping.\n",
      "printing city number 440, kangaatsiaq\n",
      "printing city number 441, emerald\n",
      "printing city number 442, murgab\n",
      "printing city number 443, almeirim\n",
      "printing city number 444, saint anthony\n",
      "printing city number 445, rio grande\n",
      "printing city number 446, nhulunbuy\n",
      "printing city number 447, tahe\n",
      "printing city number 448, marsa matruh\n",
      "printing city number 449, wang saphung\n",
      "printing city number 450, ganzhou\n",
      "printing city number 451, kirakira\n",
      "printing city number 452, mandalgovi\n",
      "printing city number 453, coxim\n",
      "printing city number 454, novikovo\n",
      "city 455, chagda not found, skipping.\n",
      "printing city number 456, mogadishu\n",
      "printing city number 457, senno\n",
      "printing city number 458, dhidhdhoo\n",
      "printing city number 459, le moule\n",
      "printing city number 460, hobyo\n",
      "printing city number 461, chulman\n",
      "printing city number 462, saskylakh\n",
      "printing city number 463, jiuquan\n",
      "printing city number 464, neuquen\n"
     ]
    },
    {
     "name": "stdout",
     "output_type": "stream",
     "text": [
      "printing city number 465, mancio lima\n",
      "city 466, uniao da victoria not found, skipping.\n",
      "printing city number 467, shimoda\n",
      "printing city number 468, davidson\n",
      "printing city number 469, faya\n",
      "city 470, sorvag not found, skipping.\n",
      "printing city number 471, bad driburg\n",
      "printing city number 472, cairns\n",
      "printing city number 473, cobija\n",
      "printing city number 474, midyat\n",
      "printing city number 475, san juan\n",
      "city 476, nizhneyansk not found, skipping.\n",
      "printing city number 477, tsogni\n",
      "printing city number 478, mazatlan\n",
      "printing city number 479, manado\n",
      "printing city number 480, kuusamo\n",
      "printing city number 481, marystown\n",
      "printing city number 482, corralillo\n",
      "printing city number 483, tres passos\n",
      "printing city number 484, srednekolymsk\n",
      "city 485, grand centre not found, skipping.\n",
      "city 486, maloshuyka not found, skipping.\n",
      "printing city number 487, severo-yeniseyskiy\n",
      "printing city number 488, xinmin\n",
      "printing city number 489, wawa\n",
      "printing city number 490, korla\n",
      "printing city number 491, khudumelapye\n",
      "printing city number 492, gamba\n",
      "city 493, grand river south east not found, skipping.\n",
      "printing city number 494, sao raimundo das mangabeiras\n",
      "printing city number 495, daru\n",
      "printing city number 496, baymak\n",
      "printing city number 497, tianpeng\n",
      "printing city number 498, taltal\n",
      "printing city number 499, sanchor\n",
      "printing city number 500, ibra\n",
      "printing city number 501, klaksvik\n",
      "printing city number 502, havre\n",
      "printing city number 503, cayenne\n",
      "printing city number 504, samarai\n",
      "printing city number 505, ginda\n",
      "printing city number 506, butia\n",
      "printing city number 507, gushikawa\n",
      "printing city number 508, saint-louis\n",
      "printing city number 509, lennoxtown\n",
      "printing city number 510, barkly west\n",
      "printing city number 511, vardo\n",
      "printing city number 512, sobolevo\n",
      "printing city number 513, custoias\n",
      "printing city number 514, ahuimanu\n",
      "printing city number 515, ballina\n",
      "printing city number 516, san joaquin\n",
      "printing city number 517, sao joao da barra\n",
      "printing city number 518, alugan\n",
      "printing city number 519, betzdorf\n",
      "printing city number 520, litovko\n",
      "printing city number 521, ndola\n",
      "printing city number 522, zhigalovo\n",
      "printing city number 523, borogontsy\n",
      "printing city number 524, sioux lookout\n",
      "printing city number 525, mugan\n",
      "printing city number 526, san policarpo\n",
      "printing city number 527, beloha\n",
      "printing city number 528, roald\n",
      "printing city number 529, parsons\n",
      "printing city number 530, pangkalanbuun\n",
      "printing city number 531, gornopravdinsk\n",
      "printing city number 532, vesoul\n",
      "printing city number 533, burns lake\n",
      "printing city number 534, shellbrook\n",
      "printing city number 535, medicine hat\n",
      "printing city number 536, ubud\n",
      "city 537, bur gabo not found, skipping.\n",
      "city 538, palabuhanratu not found, skipping.\n",
      "printing city number 539, bud\n",
      "printing city number 540, beira\n",
      "printing city number 541, villaviciosa\n",
      "printing city number 542, mujiayingzi\n",
      "city 543, doctor pedro p. pena not found, skipping.\n",
      "printing city number 544, tigil\n",
      "printing city number 545, dabakala\n",
      "printing city number 546, hami\n",
      "printing city number 547, huntingdon\n",
      "printing city number 548, portoferraio\n",
      "printing city number 549, usak\n",
      "printing city number 550, sistranda\n",
      "city 551, ondorhaan not found, skipping.\n",
      "printing city number 552, savyntsi\n",
      "printing city number 553, gyenesdias\n",
      "printing city number 554, mehamn\n",
      "printing city number 555, trenggalek\n",
      "printing city number 556, pangnirtung\n",
      "printing city number 557, owando\n",
      "printing city number 558, zhigansk\n",
      "printing city number 559, valdivia\n",
      "printing city number 560, lerwick\n",
      "printing city number 561, khani\n",
      "printing city number 562, isla vista\n",
      "printing city number 563, ulcinj\n",
      "printing city number 564, ilulissat\n",
      "printing city number 565, pacific grove\n",
      "city 566, marv dasht not found, skipping.\n",
      "printing city number 567, koumac\n",
      "printing city number 568, onoda\n",
      "printing city number 569, oussouye\n",
      "printing city number 570, takoradi\n",
      "printing city number 571, kalevala\n",
      "printing city number 572, agde\n",
      "printing city number 573, seydi\n",
      "city 574, meyungs not found, skipping.\n",
      "printing city number 575, margate\n",
      "printing city number 576, elizabeth city\n",
      "printing city number 577, kaura namoda\n",
      "printing city number 578, port hardy\n",
      "city 579, galgani not found, skipping.\n",
      "printing city number 580, coihaique\n",
      "printing city number 581, oytal\n",
      "printing city number 582, tari\n",
      "printing city number 583, sarandi\n",
      "printing city number 584, piacabucu\n",
      "printing city number 585, llanes\n",
      "printing city number 586, opuwo\n",
      "printing city number 587, caibarien\n",
      "printing city number 588, muroto\n",
      "printing city number 589, lishui\n",
      "printing city number 590, sao felix do xingu\n",
      "printing city number 591, muros\n",
      "printing city number 592, mao\n",
      "printing city number 593, ishigaki\n",
      "printing city number 594, ahipara\n",
      "printing city number 595, asyut\n",
      "printing city number 596, santana\n",
      "printing city number 597, chernyshevskiy\n",
      "printing city number 598, fort wellington\n",
      "printing city number 599, ngunguru\n",
      "printing city number 600, katangli\n",
      "city 601, ust-kamchatsk not found, skipping.\n",
      "city 602, dzhusaly not found, skipping.\n",
      "printing city number 603, oum hadjer\n",
      "printing city number 604, rovaniemi\n",
      "printing city number 605, monrovia\n",
      "printing city number 606, fushan\n",
      "city 607, el faiyum not found, skipping.\n",
      "printing city number 608, hambantota\n",
      "printing city number 609, montepuez\n",
      "printing city number 610, miramar\n",
      "city 611, mergui not found, skipping.\n",
      "printing city number 612, manzhouli\n",
      "printing city number 613, uruguaiana\n",
      "printing city number 614, mutis\n",
      "printing city number 615, bamako\n",
      "printing city number 616, winnemucca\n"
     ]
    }
   ],
   "source": [
    "cities_clean=[]\n",
    "lat=[]\n",
    "lon=[]\n",
    "temp=[]\n",
    "humidity =[]\n",
    "wind_speed=[]\n",
    "date=[]\n",
    "clouds=[]\n",
    "\n",
    "for index, city in enumerate(cities):\n",
    "    try:\n",
    "        units= \"metric\"\n",
    "        url = \"http://api.openweathermap.org/data/2.5/weather?\"\n",
    "\n",
    "        query_url = url + \"appid=\" + weather_api_key + \"&q=\" + city\n",
    "        response=requests.get(query_url).json()\n",
    "        cities_clean.append(city)\n",
    "        lat.append(response['coord']['lat'])\n",
    "        lon.append(response['coord']['lon'])\n",
    "        temp.append(response['main']['temp_max'])\n",
    "        humidity.append(response['main']['humidity'])\n",
    "        wind_speed.append(response['wind']['speed'])\n",
    "        clouds.append(response['weather'][0]['description'])\n",
    "        #date.append(response['weather'][0]['description'])\n",
    "        \n",
    "        #Include a print log of each city as it'sbeing processed (with the city number and city name).\n",
    "        print(f'printing city number {index + 1}, {city}')\n",
    "    except KeyError:\n",
    "        #if city is not found, remove from dataframe.\n",
    "        cities_clean.pop(-1)\n",
    "        print(f\"city {index+1}, {city} not found, skipping.\")\n",
    "  \n",
    "\n",
    "        \n",
    "#cities_clean       \n"
   ]
  },
  {
   "cell_type": "code",
   "execution_count": 8,
   "metadata": {},
   "outputs": [
    {
     "name": "stdout",
     "output_type": "stream",
     "text": [
      "          city name      lat       lon    temp  humidity       cloudiness  \\\n",
      "0          budhlada  29.9333   75.5667  301.09        44  overcast clouds   \n",
      "1    severo-kurilsk  50.6789  156.1250  283.67        56        clear sky   \n",
      "2           mataura -46.1927  168.8643  284.53        98       light rain   \n",
      "3         upernavik  72.7868  -56.1549  273.29        77  overcast clouds   \n",
      "4         kungurtug  50.5994   97.5228  283.72        75  overcast clouds   \n",
      "..              ...      ...       ...     ...       ...              ...   \n",
      "562       manzhouli  49.6000  117.4333  288.55        41  overcast clouds   \n",
      "563      uruguaiana -29.7547  -57.0883  288.11        67        clear sky   \n",
      "564           mutis   6.2262  -77.4044  299.08        88  overcast clouds   \n",
      "565          bamako  12.6500   -8.0000  304.38        26       few clouds   \n",
      "566      winnemucca  40.9730 -117.7357  299.32        20    broken clouds   \n",
      "\n",
      "     wind speed  \n",
      "0          4.59  \n",
      "1          3.30  \n",
      "2          3.49  \n",
      "3          3.42  \n",
      "4          1.59  \n",
      "..          ...  \n",
      "562        4.17  \n",
      "563        2.06  \n",
      "564        2.17  \n",
      "565        0.40  \n",
      "566        7.04  \n",
      "\n",
      "[567 rows x 7 columns]\n"
     ]
    },
    {
     "data": {
      "text/plain": [
       "100"
      ]
     },
     "execution_count": 8,
     "metadata": {},
     "output_type": "execute_result"
    }
   ],
   "source": [
    "weather_data=pd.DataFrame({'city name': cities_clean, 'lat': lat,\n",
    "                           'lon': lon, 'temp': temp,\n",
    "                           'humidity': humidity,\n",
    "                           'cloudiness': clouds,\n",
    "                          'wind speed':wind_speed})\n",
    "\n",
    "print(weather_data)\n",
    "#check max humidity values\n",
    "weather_data['humidity'].max()\n",
    "#max humidity value is 100, so no need to remove any rows. "
   ]
  },
  {
   "cell_type": "markdown",
   "metadata": {},
   "source": [
    "### Convert Raw Data to DataFrame\n",
    "* Export the city data into a .csv.\n",
    "* Display the DataFrame"
   ]
  },
  {
   "cell_type": "code",
   "execution_count": 9,
   "metadata": {},
   "outputs": [],
   "source": [
    "#export to csv\n",
    "weather_data.to_csv(\"weatherdata.csv\", encoding=\"utf-8\", index=False)"
   ]
  },
  {
   "cell_type": "code",
   "execution_count": 10,
   "metadata": {},
   "outputs": [
    {
     "data": {
      "text/html": [
       "<div>\n",
       "<style scoped>\n",
       "    .dataframe tbody tr th:only-of-type {\n",
       "        vertical-align: middle;\n",
       "    }\n",
       "\n",
       "    .dataframe tbody tr th {\n",
       "        vertical-align: top;\n",
       "    }\n",
       "\n",
       "    .dataframe thead th {\n",
       "        text-align: right;\n",
       "    }\n",
       "</style>\n",
       "<table border=\"1\" class=\"dataframe\">\n",
       "  <thead>\n",
       "    <tr style=\"text-align: right;\">\n",
       "      <th></th>\n",
       "      <th>city name</th>\n",
       "      <th>lat</th>\n",
       "      <th>lon</th>\n",
       "      <th>temp</th>\n",
       "      <th>humidity</th>\n",
       "      <th>cloudiness</th>\n",
       "      <th>wind speed</th>\n",
       "    </tr>\n",
       "  </thead>\n",
       "  <tbody>\n",
       "    <tr>\n",
       "      <th>0</th>\n",
       "      <td>budhlada</td>\n",
       "      <td>29.9333</td>\n",
       "      <td>75.5667</td>\n",
       "      <td>301.09</td>\n",
       "      <td>44</td>\n",
       "      <td>overcast clouds</td>\n",
       "      <td>4.59</td>\n",
       "    </tr>\n",
       "    <tr>\n",
       "      <th>1</th>\n",
       "      <td>severo-kurilsk</td>\n",
       "      <td>50.6789</td>\n",
       "      <td>156.1250</td>\n",
       "      <td>283.67</td>\n",
       "      <td>56</td>\n",
       "      <td>clear sky</td>\n",
       "      <td>3.30</td>\n",
       "    </tr>\n",
       "    <tr>\n",
       "      <th>2</th>\n",
       "      <td>mataura</td>\n",
       "      <td>-46.1927</td>\n",
       "      <td>168.8643</td>\n",
       "      <td>284.53</td>\n",
       "      <td>98</td>\n",
       "      <td>light rain</td>\n",
       "      <td>3.49</td>\n",
       "    </tr>\n",
       "    <tr>\n",
       "      <th>3</th>\n",
       "      <td>upernavik</td>\n",
       "      <td>72.7868</td>\n",
       "      <td>-56.1549</td>\n",
       "      <td>273.29</td>\n",
       "      <td>77</td>\n",
       "      <td>overcast clouds</td>\n",
       "      <td>3.42</td>\n",
       "    </tr>\n",
       "    <tr>\n",
       "      <th>4</th>\n",
       "      <td>kungurtug</td>\n",
       "      <td>50.5994</td>\n",
       "      <td>97.5228</td>\n",
       "      <td>283.72</td>\n",
       "      <td>75</td>\n",
       "      <td>overcast clouds</td>\n",
       "      <td>1.59</td>\n",
       "    </tr>\n",
       "    <tr>\n",
       "      <th>...</th>\n",
       "      <td>...</td>\n",
       "      <td>...</td>\n",
       "      <td>...</td>\n",
       "      <td>...</td>\n",
       "      <td>...</td>\n",
       "      <td>...</td>\n",
       "      <td>...</td>\n",
       "    </tr>\n",
       "    <tr>\n",
       "      <th>562</th>\n",
       "      <td>manzhouli</td>\n",
       "      <td>49.6000</td>\n",
       "      <td>117.4333</td>\n",
       "      <td>288.55</td>\n",
       "      <td>41</td>\n",
       "      <td>overcast clouds</td>\n",
       "      <td>4.17</td>\n",
       "    </tr>\n",
       "    <tr>\n",
       "      <th>563</th>\n",
       "      <td>uruguaiana</td>\n",
       "      <td>-29.7547</td>\n",
       "      <td>-57.0883</td>\n",
       "      <td>288.11</td>\n",
       "      <td>67</td>\n",
       "      <td>clear sky</td>\n",
       "      <td>2.06</td>\n",
       "    </tr>\n",
       "    <tr>\n",
       "      <th>564</th>\n",
       "      <td>mutis</td>\n",
       "      <td>6.2262</td>\n",
       "      <td>-77.4044</td>\n",
       "      <td>299.08</td>\n",
       "      <td>88</td>\n",
       "      <td>overcast clouds</td>\n",
       "      <td>2.17</td>\n",
       "    </tr>\n",
       "    <tr>\n",
       "      <th>565</th>\n",
       "      <td>bamako</td>\n",
       "      <td>12.6500</td>\n",
       "      <td>-8.0000</td>\n",
       "      <td>304.38</td>\n",
       "      <td>26</td>\n",
       "      <td>few clouds</td>\n",
       "      <td>0.40</td>\n",
       "    </tr>\n",
       "    <tr>\n",
       "      <th>566</th>\n",
       "      <td>winnemucca</td>\n",
       "      <td>40.9730</td>\n",
       "      <td>-117.7357</td>\n",
       "      <td>299.32</td>\n",
       "      <td>20</td>\n",
       "      <td>broken clouds</td>\n",
       "      <td>7.04</td>\n",
       "    </tr>\n",
       "  </tbody>\n",
       "</table>\n",
       "<p>567 rows × 7 columns</p>\n",
       "</div>"
      ],
      "text/plain": [
       "          city name      lat       lon    temp  humidity       cloudiness  \\\n",
       "0          budhlada  29.9333   75.5667  301.09        44  overcast clouds   \n",
       "1    severo-kurilsk  50.6789  156.1250  283.67        56        clear sky   \n",
       "2           mataura -46.1927  168.8643  284.53        98       light rain   \n",
       "3         upernavik  72.7868  -56.1549  273.29        77  overcast clouds   \n",
       "4         kungurtug  50.5994   97.5228  283.72        75  overcast clouds   \n",
       "..              ...      ...       ...     ...       ...              ...   \n",
       "562       manzhouli  49.6000  117.4333  288.55        41  overcast clouds   \n",
       "563      uruguaiana -29.7547  -57.0883  288.11        67        clear sky   \n",
       "564           mutis   6.2262  -77.4044  299.08        88  overcast clouds   \n",
       "565          bamako  12.6500   -8.0000  304.38        26       few clouds   \n",
       "566      winnemucca  40.9730 -117.7357  299.32        20    broken clouds   \n",
       "\n",
       "     wind speed  \n",
       "0          4.59  \n",
       "1          3.30  \n",
       "2          3.49  \n",
       "3          3.42  \n",
       "4          1.59  \n",
       "..          ...  \n",
       "562        4.17  \n",
       "563        2.06  \n",
       "564        2.17  \n",
       "565        0.40  \n",
       "566        7.04  \n",
       "\n",
       "[567 rows x 7 columns]"
      ]
     },
     "execution_count": 10,
     "metadata": {},
     "output_type": "execute_result"
    }
   ],
   "source": [
    "weather_data_csv=pd.read_csv(\"weatherdata.csv\")\n",
    "weather_data_csv"
   ]
  },
  {
   "cell_type": "markdown",
   "metadata": {},
   "source": [
    "## Plotting the Data\n",
    "* Use proper labeling of the plots using plot titles (including date of analysis) and axes labels.\n",
    "* Save the plotted figures as .pngs."
   ]
  },
  {
   "cell_type": "markdown",
   "metadata": {},
   "source": [
    "## Latitude vs. Temperature Plot"
   ]
  },
  {
   "cell_type": "code",
   "execution_count": 11,
   "metadata": {
    "scrolled": true
   },
   "outputs": [
    {
     "data": {
      "text/plain": [
       "Text(0, 0.5, 'Temperature(c)')"
      ]
     },
     "execution_count": 11,
     "metadata": {},
     "output_type": "execute_result"
    },
    {
     "data": {
      "image/png": "[encoded data removed]",
      "text/plain": [
       "<Figure size 432x288 with 1 Axes>"
      ]
     },
     "metadata": {
      "needs_background": "light"
     },
     "output_type": "display_data"
    }
   ],
   "source": [
    "x=weather_data_csv['lat']\n",
    "y=weather_data_csv['temp']\n",
    "plt.scatter(x, y)\n",
    "plt.title('Latitude vs. Temperature (Celcius)')\n",
    "plt.xlabel('Latitude')\n",
    "plt.ylabel('Temperature(c)')"
   ]
  },
  {
   "cell_type": "markdown",
   "metadata": {},
   "source": [
    "## Latitude vs. Humidity Plot"
   ]
  },
  {
   "cell_type": "code",
   "execution_count": 12,
   "metadata": {},
   "outputs": [
    {
     "data": {
      "image/png": "[encoded data removed]",
      "text/plain": [
       "<Figure size 432x288 with 1 Axes>"
      ]
     },
     "metadata": {
      "needs_background": "light"
     },
     "output_type": "display_data"
    }
   ],
   "source": [
    "\n",
    "hum=weather_data_csv['humidity']\n",
    "plt.scatter(x, hum)\n",
    "plt.title('Latitude vs Humidity')\n",
    "plt.xlabel('Latitude')\n",
    "plt.ylabel('Humidity(%)')\n",
    "plt.savefig(\"png\")"
   ]
  },
  {
   "cell_type": "markdown",
   "metadata": {},
   "source": [
    "## Latitude vs. Cloudiness Plot"
   ]
  },
  {
   "cell_type": "code",
   "execution_count": 13,
   "metadata": {},
   "outputs": [
    {
     "data": {
      "image/png": "[encoded data removed]",
      "text/plain": [
       "<Figure size 432x288 with 1 Axes>"
      ]
     },
     "metadata": {
      "needs_background": "light"
     },
     "output_type": "display_data"
    }
   ],
   "source": [
    "cloudiness=weather_data_csv['cloudiness']\n",
    "plt.scatter(x,cloudiness)\n",
    "plt.xlabel('Latitude')\n",
    "plt.title('Latitude vs. Cloud Type')\n",
    "plt.savefig(\"png\")"
   ]
  },
  {
   "cell_type": "markdown",
   "metadata": {},
   "source": [
    "## Latitude vs. Wind Speed Plot"
   ]
  },
  {
   "cell_type": "code",
   "execution_count": 16,
   "metadata": {},
   "outputs": [
    {
     "data": {
      "image/png": "[encoded data removed]",
      "text/plain": [
       "<Figure size 432x288 with 1 Axes>"
      ]
     },
     "metadata": {
      "needs_background": "light"
     },
     "output_type": "display_data"
    },
    {
     "data": {
      "text/plain": [
       "<Figure size 432x288 with 0 Axes>"
      ]
     },
     "metadata": {},
     "output_type": "display_data"
    }
   ],
   "source": [
    "wind=weather_data_csv['wind speed']\n",
    "plt.scatter(x, wind)\n",
    "plt.title('Latitude vs Wind Speed (MPH)')\n",
    "plt.xlabel('Latitude')\n",
    "plt.ylabel('Wind Speed (MPH)')\n",
    "plt.show()\n",
    "plt.savefig(\"png\")"
   ]
  },
  {
   "cell_type": "markdown",
   "metadata": {},
   "source": [
    "## Linear Regression"
   ]
  },
  {
   "cell_type": "code",
   "execution_count": 19,
   "metadata": {},
   "outputs": [],
   "source": [
    "#split dataframe by northern and southern hemisphere\n",
    "northern=weather_data_csv.loc[weather_data_csv['lat'] > 0]\n",
    "southern=weather_data_csv.loc[weather_data_csv['lat'] < 0]"
   ]
  },
  {
   "cell_type": "markdown",
   "metadata": {},
   "source": [
    "####  Northern Hemisphere - Max Temp vs. Latitude Linear Regression"
   ]
  },
  {
   "cell_type": "code",
   "execution_count": 21,
   "metadata": {},
   "outputs": [
    {
     "data": {
      "text/plain": [
       "<matplotlib.collections.PathCollection at 0x7fa51802e820>"
      ]
     },
     "execution_count": 21,
     "metadata": {},
     "output_type": "execute_result"
    },
    {
     "data": {
      "image/png": "[encoded data removed]",
      "text/plain": [
       "<Figure size 432x288 with 1 Axes>"
      ]
     },
     "metadata": {
      "needs_background": "light"
     },
     "output_type": "display_data"
    }
   ],
   "source": [
    "x_ax=northern['lat']\n",
    "temp=northern['temp']\n",
    "plt.scatter(x_ax, temp)\n",
    "plt.title(Northern Hemisphere: Lat vs. Temp)\n",
    "plt.xlabel('Latitude')\n",
    "plt.ylabel('Temperature (c)')\n",
    "plt.show()\n",
    "plt.savefig(\"png\")\n"
   ]
  },
  {
   "cell_type": "markdown",
   "metadata": {},
   "source": [
    "####  Southern Hemisphere - Max Temp vs. Latitude Linear Regression"
   ]
  },
  {
   "cell_type": "code",
   "execution_count": null,
   "metadata": {},
   "outputs": [],
   "source": []
  },
  {
   "cell_type": "markdown",
   "metadata": {},
   "source": [
    "####  Northern Hemisphere - Humidity (%) vs. Latitude Linear Regression"
   ]
  },
  {
   "cell_type": "code",
   "execution_count": null,
   "metadata": {},
   "outputs": [],
   "source": []
  },
  {
   "cell_type": "markdown",
   "metadata": {},
   "source": [
    "####  Southern Hemisphere - Humidity (%) vs. Latitude Linear Regression"
   ]
  },
  {
   "cell_type": "code",
   "execution_count": null,
   "metadata": {},
   "outputs": [],
   "source": []
  },
  {
   "cell_type": "code",
   "execution_count": null,
   "metadata": {},
   "outputs": [],
   "source": []
  },
  {
   "cell_type": "markdown",
   "metadata": {},
   "source": [
    "####  Northern Hemisphere - Cloudiness (%) vs. Latitude Linear Regression"
   ]
  },
  {
   "cell_type": "code",
   "execution_count": null,
   "metadata": {},
   "outputs": [],
   "source": []
  },
  {
   "cell_type": "markdown",
   "metadata": {},
   "source": [
    "####  Southern Hemisphere - Cloudiness (%) vs. Latitude Linear Regression"
   ]
  },
  {
   "cell_type": "code",
   "execution_count": null,
   "metadata": {},
   "outputs": [],
   "source": []
  },
  {
   "cell_type": "markdown",
   "metadata": {},
   "source": [
    "####  Northern Hemisphere - Wind Speed (mph) vs. Latitude Linear Regression"
   ]
  },
  {
   "cell_type": "code",
   "execution_count": null,
   "metadata": {},
   "outputs": [],
   "source": []
  },
  {
   "cell_type": "markdown",
   "metadata": {},
   "source": [
    "####  Southern Hemisphere - Wind Speed (mph) vs. Latitude Linear Regression"
   ]
  },
  {
   "cell_type": "code",
   "execution_count": null,
   "metadata": {},
   "outputs": [],
   "source": []
  },
  {
   "cell_type": "code",
   "execution_count": null,
   "metadata": {},
   "outputs": [],
   "source": []
  }
 ],
 "metadata": {
  "anaconda-cloud": {},
  "kernel_info": {
   "name": "python3"
  },
  "kernelspec": {
   "display_name": "Python 3",
   "language": "python",
   "name": "python3"
  },
  "language_info": {
   "codemirror_mode": {
    "name": "ipython",
    "version": 3
   },
   "file_extension": ".py",
   "mimetype": "text/x-python",
   "name": "python",
   "nbconvert_exporter": "python",
   "pygments_lexer": "ipython3",
   "version": "3.8.5"
  },
  "latex_envs": {
   "LaTeX_envs_menu_present": true,
   "autoclose": false,
   "autocomplete": true,
   "bibliofile": "biblio.bib",
   "cite_by": "apalike",
   "current_citInitial": 1,
   "eqLabelWithNumbers": true,
   "eqNumInitial": 1,
   "hotkeys": {
    "equation": "Ctrl-E",
    "itemize": "Ctrl-I"
   },
   "labels_anchors": false,
   "latex_user_defs": false,
   "report_style_numbering": false,
   "user_envs_cfg": false
  },
  "nteract": {
   "version": "0.12.3"
  }
 },
 "nbformat": 4,
 "nbformat_minor": 2
}
